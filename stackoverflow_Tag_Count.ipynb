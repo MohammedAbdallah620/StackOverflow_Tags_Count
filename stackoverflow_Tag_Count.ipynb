{
  "nbformat": 4,
  "nbformat_minor": 0,
  "metadata": {
    "colab": {
      "name": "stackoverflow_Tag_Count.ipynb",
      "provenance": [],
      "authorship_tag": "ABX9TyMAUJAA2FdWxs6loVnzHldW"
    },
    "kernelspec": {
      "name": "python3",
      "display_name": "Python 3"
    },
    "language_info": {
      "name": "python"
    }
  },
  "cells": [
    {
      "cell_type": "code",
      "metadata": {
        "id": "y-z_pTG4okQm"
      },
      "source": [
        "import requests\n",
        "import pandas as pd\n",
        "import matplotlib.pyplot as plt\n",
        "import matplotlib.style as style\n",
        "from bs4 import BeautifulSoup"
      ],
      "execution_count": null,
      "outputs": []
    },
    {
      "cell_type": "code",
      "metadata": {
        "id": "Ko7lIt765GQq"
      },
      "source": [
        "language, tag_count = [], []\n",
        "\n",
        "def extract_tagged(url):\n",
        "\n",
        "  page = requests.get(url)\n",
        "  html = page.content\n",
        "  soup = BeautifulSoup(html,\"html.parser\")\n",
        "  \n",
        "  languages = soup.find_all(\"a\",{\"class\":\"post-tag\"})\n",
        "  for lang in languages:\n",
        "    language.append(lang.text)\n",
        "\n",
        "  counts = soup.find_all('div',{\"class\":\"mt-auto d-flex jc-space-between fs-caption fc-black-400\"})\n",
        "  for count in counts:\n",
        "    tag_count.append(count.find(\"div\").text)\n",
        "\n",
        "\n"
      ],
      "execution_count": 66,
      "outputs": []
    },
    {
      "cell_type": "code",
      "metadata": {
        "colab": {
          "base_uri": "https://localhost:8080/",
          "height": 332
        },
        "id": "6o-Nw88qxzdT",
        "outputId": "b0f9dc80-6b23-430f-9199-5725abe2c846"
      },
      "source": [
        "for i in range(1,3):\n",
        "    extract_tagged(\"http://stackoverflow.com/tags?page=\"+str(i)+\"&tab=popular\")\n",
        "\n",
        "  \n",
        "#print(language)\n",
        "#print(tag_count)\n",
        "## remove word(' questions') from tag_count and convert them to integers\n",
        "for i in range(len(tag_count)):\n",
        "  tag_count[i] = int(tag_count[i][:-10])\n",
        "#print(tag_count)\n",
        "\n",
        "\n",
        "df= pd.DataFrame({\n",
        "                  \"Language\": language,\n",
        "                  \"Tag_Count\": tag_count\n",
        "                })\n",
        "df.to_csv(\"Tag_Count.csv\")\n",
        "\n",
        "style.use('ggplot')\n",
        "\n",
        "df.sort_values(by=['Tag_Count'],ascending=False).head(10).set_index('Language').plot(kind='bar')\n",
        "plt.show()"
      ],
      "execution_count": 67,
      "outputs": [
        {
          "output_type": "display_data",
          "data": {
            "image/png": "[encoded data removed]",
            "text/plain": [
              "<Figure size 432x288 with 1 Axes>"
            ]
          },
          "metadata": {}
        }
      ]
    }
  ]
}